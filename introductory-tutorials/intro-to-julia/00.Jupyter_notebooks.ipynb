{
 "cells": [
  {
   "cell_type": "markdown",
   "metadata": {},
   "source": [
    "## 上手Jupyter notebook\n",
    "\n",
    "### 执行一个cell\n",
    "要执行一个cell中的代码, 选中那个cell然后要么(1) 按 `Shift` + `Enter` ，要么(2)点击上面的运行按钮（Run）。【译注：不过我个人喜欢(3)按`Ctrl` + `Enter`】"
   ]
  },
  {
   "cell_type": "code",
   "execution_count": null,
   "metadata": {},
   "outputs": [],
   "source": [
    "1 + 1\n",
    "2 + 2"
   ]
  },
  {
   "cell_type": "markdown",
   "metadata": {},
   "source": [
    "新手注意，执行一个cell时只有最后一行会默认打印，想要抑制这个打印行为在行结束时加上分号`;` 就行了，就像下面这样"
   ]
  },
  {
   "cell_type": "code",
   "execution_count": null,
   "metadata": {},
   "outputs": [],
   "source": [
    "1 + 1\n",
    "2 + 2;"
   ]
  },
  {
   "cell_type": "markdown",
   "metadata": {},
   "source": [
    "### 如何查看Julia函数的帮助文档\n",
    "\n",
    "查看不熟悉的Julia函数的帮助文档，在函数名前面加个问号就行。（在Julia的REPL中也好使哦！）"
   ]
  },
  {
   "cell_type": "code",
   "execution_count": null,
   "metadata": {},
   "outputs": [],
   "source": [
    "?println"
   ]
  },
  {
   "cell_type": "markdown",
   "metadata": {},
   "source": [
    "### 如何使用shell命令\n",
    "\n",
    "在shell命令前加上分号 `;` 就行，像这样："
   ]
  },
  {
   "cell_type": "code",
   "execution_count": null,
   "metadata": {},
   "outputs": [],
   "source": [
    ";ls"
   ]
  },
  {
   "cell_type": "code",
   "execution_count": null,
   "metadata": {},
   "outputs": [],
   "source": [
    ";pwd"
   ]
  },
  {
   "cell_type": "markdown",
   "metadata": {
    "collapsed": true
   },
   "source": [
    "shell命令在Julia的REPL中也好使哦！\n",
    "\n",
    "【译注：呐，你要是Windows系统的话你得使用Windows命令行命令，像这样：】"
   ]
  },
  {
   "cell_type": "code",
   "execution_count": null,
   "metadata": {},
   "outputs": [],
   "source": [
    ";cd"
   ]
  }
 ],
 "metadata": {
  "kernelspec": {
   "display_name": "Julia 1.0.0",
   "language": "julia",
   "name": "julia-1.0"
  },
  "language_info": {
   "file_extension": ".jl",
   "mimetype": "application/julia",
   "name": "julia",
   "version": "1.0.0"
  }
 },
 "nbformat": 4,
 "nbformat_minor": 2
}
