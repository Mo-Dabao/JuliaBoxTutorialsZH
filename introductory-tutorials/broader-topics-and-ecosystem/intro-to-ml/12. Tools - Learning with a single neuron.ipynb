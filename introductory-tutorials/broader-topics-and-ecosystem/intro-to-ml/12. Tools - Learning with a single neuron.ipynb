{
  "cells": [
    {
      "cell_type": "markdown",
      "source": [
        "## Learning with a single neuron\n\nIn this notebook, we'll build a neuron that classifies an image as an apple or as a banana using multiple features from the image. We'll **train** our neuron using data from many images that have already been correctly categorised; our neuron will thereby **learn** what parameters to use, by minimizing a loss function using gradient descent.\n\nWe'll do this with almost the simplest possible neuron, namely one that takes just two inputs:"
      ],
      "metadata": {}
    },
    {
      "outputs": [],
      "cell_type": "code",
      "source": [
        "include(\"draw_neural_net.jl\")\nnumber_inputs, number_neurons = 2, 1\ndraw_network([number_inputs, number_neurons])"
      ],
      "metadata": {},
      "execution_count": null
    },
    {
      "cell_type": "markdown",
      "source": [
        "To do this, we need to work with and *clean* some real data. Let's get started!"
      ],
      "metadata": {}
    },
    {
      "cell_type": "markdown",
      "source": [
        "## Loading in some data"
      ],
      "metadata": {}
    },
    {
      "cell_type": "markdown",
      "source": [
        "Let's load in some real data! We'll use data that we have prepared from photos of apples and bananas; it turns out to be stored on disk in data files as \"tab-separated values\". We can read this data in with the `CSV.jl` package, as follows."
      ],
      "metadata": {}
    },
    {
      "outputs": [],
      "cell_type": "code",
      "source": [
        ";head data/Apple_Golden_1.dat"
      ],
      "metadata": {},
      "execution_count": null
    },
    {
      "outputs": [],
      "cell_type": "code",
      "source": [
        ";head data/bananas.dat"
      ],
      "metadata": {},
      "execution_count": null
    },
    {
      "outputs": [],
      "cell_type": "code",
      "source": [
        "using CSV\nusing TextParse\n\napplecols, applecolnames = TextParse.csvread(\"data/Apple_Golden_1.dat\", '\\t')\nbananacols, bananacolnames = TextParse.csvread(\"data/bananas.dat\", '\\t');"
      ],
      "metadata": {},
      "execution_count": null
    },
    {
      "cell_type": "markdown",
      "source": [
        "Next, we want to use `DataFrames` to store the information from our CSV files."
      ],
      "metadata": {}
    },
    {
      "outputs": [],
      "cell_type": "code",
      "source": [
        "using DataFrames"
      ],
      "metadata": {},
      "execution_count": null
    },
    {
      "cell_type": "markdown",
      "source": [
        "One way we can create a `DataFrame` is to pass a dictionary that contain arrays as values and descriptive names for those arrays as keys to the `DataFrame` function:"
      ],
      "metadata": {}
    },
    {
      "outputs": [],
      "cell_type": "code",
      "source": [
        "apples =  DataFrame(Dict(strip(name) => col for (name, col) in zip(applecolnames, applecols)))\nbananas = DataFrame(Dict(strip(name) => col for (name, col) in zip(bananacolnames, bananacols)))"
      ],
      "metadata": {},
      "execution_count": null
    },
    {
      "cell_type": "markdown",
      "source": [
        "Above, we used a \"dictionary comprehension\" to create each `DataFrame`. Here is some code to create a dictionary, `appledict`, via a dictionary comprehension:\n\n```julia\nappledict = Dict(strip(name)=>col for (name, col) in zip(applecolnames, applecols))\n```\nFor now, don't worry about the exact syntax used here. Just note that the dictionary created associates names with arrays, and that we've used a dictionary like this to create a `DataFrame` with named columns!\n\nSo for now, each of the two data sets is stored in a `DataFrame` (from the `DataFrames.jl` package)."
      ],
      "metadata": {}
    },
    {
      "cell_type": "markdown",
      "source": [
        "### Roadmap\n\nTo use a neuron with two inputs, we will use just two of the data (numbers) for each image, say columns 3 and 4, the mean amount of red and the mean amount of green; each data point will then be a 2-dimensional vector, and the data points lie on a two-dimensional plane. We will have many input data, labelled with an index $i$. We will denote the $i$th data point as  $\\mathbf{x}^{(i)}$.\n\nThe goal is that our neuron will take a single point on the two-dimensional plane as its input, and should return a single output that **classifies** it as an apple ($0$) or a banana ($1$). \n\nTo do so, it must \"**learn**\" the correct values of its parameters $\\mathbf{w}$ and $b$. For this learning to take place, we'll need **labels** for each of the input data, which identify them as either an apple (0) or as a banana (1). \n\nThese labels will, in turn, allow us to create a loss function, which will allow our algorithm to learn to determine if a given choice of parameters does a good or a poor job of classifying our fruit images. \n\n**So what do we have left to do?**\n\nThe above might sound complex, but luckily we can break it down into a series of actionable steps:\n\n1. Clean our input data (amounts of red and green) to get it into a usable format;\n2. Create a sequence of labels that we can use to identify correct and incorrect classifications;\n3. Define a loss function that contains parameters;\n4. Implement an algorithm to pick parameters for our neuron by minimizing the loss function with respect to the parameters;\n5. Use all of the above to train our neuron how to classify images as apples or bananas!"
      ],
      "metadata": {}
    },
    {
      "cell_type": "markdown",
      "source": [
        "#### Note: \n\nNote that *in general we cannot expect that a single neuron will be adequate for classification.* \n\nIf a single neuron struggles to classify our images, we may need to use a more complicated neural network structure (which corresponds to using a more complicated function)."
      ],
      "metadata": {}
    },
    {
      "cell_type": "markdown",
      "source": [
        "## Cleaning the data"
      ],
      "metadata": {}
    },
    {
      "cell_type": "markdown",
      "source": [
        "Usually it will be necessary to \"clean\" the data in some way, i.e. pre-process it, before it can be used for whichever task you are interested in."
      ],
      "metadata": {}
    },
    {
      "cell_type": "markdown",
      "source": [
        "Our next *meta*-exercise will be to collect all the data from columns 3 and 4 into a *single* Julia vector `x` (of which each entry is itself a vector), and the labels into a single vector `y`. Let's do this in a series of steps!"
      ],
      "metadata": {}
    },
    {
      "cell_type": "markdown",
      "source": [
        "#### Exercise 1\n\nFirst, let's practice grabbing a single column of a `DataFrame`. To grab a column, you can index into the `DataFrame` with the name of the column you want, passed as a symbol. In Julia, symbols are names preceded by a `:`. For example, we could grab the \"height\" column from `apples` by indexing into `apples` with the symbol, `:height`:\n\n```julia\napples[:height]\n```\n\nIndex into `apples` to get the \"red\" column. What is the type of the object returned? How many entries does it have?\n\nA) Array, 5 <br>\nB) DataArray, 5 <br>\nC) Array, 64 <br>\nD) DataArray, 64 <br>\nE) Array, 492 <br>\nF) DataArray, 492"
      ],
      "metadata": {}
    },
    {
      "cell_type": "markdown",
      "source": [
        "#### Exercise 2\n\nWe can grab an individual entry of a `DataFrame` by specifying the row index of the entry and the column symbol. For example, to access the height of the 4th image of an apple, we would execute\n\n```julia\napples[4, :height]\n```\n\nHow much red is there in the 63rd image of a banana?"
      ],
      "metadata": {}
    },
    {
      "cell_type": "markdown",
      "source": [
        "#### Exercise 3\n\nWe want to reorganize data from the 3rd and 4th columns of `apples` and `bananas` to put that data in a single array. Let's start by organizing the data from the 3rd and 4th columns of `apples` into a single array, `x_apples`. Create `x_apples` such that there is a single element in `x_apples` for each image in `apples`. The $i^\\mathrm{th}$ element in `x_apples` should be a `Vector`, i.e. a 1D `Array`, with two elements - the amount of red and the amount of blue in the $i^\\mathrm{th}$ image from `apples`.\n\nSimilarly create the `Array` `x_bananas` using data from `bananas`."
      ],
      "metadata": {}
    },
    {
      "outputs": [],
      "cell_type": "code",
      "source": [
        ""
      ],
      "metadata": {},
      "execution_count": null
    },
    {
      "cell_type": "markdown",
      "source": [
        "#### Exercise 4\n\nNext we want to combine the elements of `x_apples` and `x_bananas` into a single array, `xs`. `xs` should contain, first, all the elements of `x_apples`, and then all the elements of `x_bananas`. Use the `vcat` function to create `xs`."
      ],
      "metadata": {}
    },
    {
      "cell_type": "markdown",
      "source": [
        "#### Exercise 5\n\nIf you've gotten this far, our data is in the format we want for learning. Now we need labels! We want to store a label (either a `0` or a `1` for every apple or banana image in our data set in an array called `ys`. Recall that \"0\" refers to an apple and \"1\" refers to a banana.\n\nCreate an array `ys` where the $i^\\mathrm{th}$ element of `ys` is a `0` if the $i^\\mathrm{th}$ element of `xs` is an apple, and where the $i^\\mathrm{th}$ element of `ys` is a `1` if the $i^\\mathrm{th}$ element of `xs` is a banana."
      ],
      "metadata": {}
    },
    {
      "cell_type": "markdown",
      "source": [
        "#### Exercise 6\n\nAdd data points for all apple and banana images in our data sets to a plot using `scatter`. Plot data points for apples in one color and use a different color for banana data points.\n\nHint: You may want to use the `first` and `last` functions."
      ],
      "metadata": {}
    },
    {
      "cell_type": "markdown",
      "source": [
        "## \"Learning\" by hand"
      ],
      "metadata": {}
    },
    {
      "cell_type": "markdown",
      "source": [
        "Intuitively, looking at the plot of the data, we see that it should be \"easy\" to find a function that separates the data into bananas on one side and apples on the other: we just need to draw a straight line that divides the two clouds of data. We can do this \"by hand\", as follows."
      ],
      "metadata": {}
    },
    {
      "cell_type": "markdown",
      "source": [
        "In the code below, the neuron will learn a function of the form $\\sigma(\\mathbf{w} \\cdot \\mathbf{x} + b)$. Since $\\sigma$ looks like a smooth version of a step function, we can think of $\\sigma$ classifying based on whether the value of its output argument is less than `0.5` or greater than `0.5`. \n\n**Game**: Use the interactive visualization to find suitable values of $\\mathbf{w}$ and $b$ such that the hyperplane $\\sigma(w_1 x_1 + w_2 x_2 + b) = 0.5$ divides the data. This is the same as the hyperplane for which $w_1 x_1 + w_2 x_2 + b = 0$ ! (Note that there are many such values!)"
      ],
      "metadata": {}
    },
    {
      "cell_type": "markdown",
      "source": [
        "We can solve for $x_2$ via \n\n$$x_2 = -(w_1 x_1 + b) / w_2,$$\n\nand use this to draw the corresponding hyperplane."
      ],
      "metadata": {}
    },
    {
      "outputs": [],
      "cell_type": "code",
      "source": [
        "using Interact"
      ],
      "metadata": {},
      "execution_count": null
    },
    {
      "outputs": [],
      "cell_type": "code",
      "source": [
        "@manipulate for w1 in -2:0.01:3, w2 in -2:0.01:3, b in -2:0.01:3\n    \n    scatter(first.(x_apples), last.(x_apples), m=:cross, label=\"apples\")\n    scatter!(first.(x_bananas), last.(x_bananas), label=\"bananas\")\n    \n    ylims!(0.3, 0.66)\n    xlims!(0.45, 0.75)\n    \n    plot!(x -> -(w1*x + b) / w2)\nend"
      ],
      "metadata": {},
      "execution_count": null
    },
    {
      "cell_type": "markdown",
      "source": [
        "## How can the neuron *learn* to classify the data?"
      ],
      "metadata": {}
    },
    {
      "cell_type": "markdown",
      "source": [
        "We are now ready for our first experience of **machine learning**: we will let the neuron learn automatically by processing data and tuning model parameters accordingly (the process we call \"learning\")!"
      ],
      "metadata": {}
    },
    {
      "cell_type": "markdown",
      "source": [
        "For given values of the parameters $w_1$, $w_2$ and $b$, the function $f_{\\mathbf{w}, b}$ maps a vector of length $2$ to a number between $0$ and $1$ (due to the definition of $\\sigma$). Now we want to have a neuron *learn* suitable values of these parameters. \n\nWe want to discover (learn!) the parameters such that $f$ models the relationship between the data we explored above about the fruit images, and outputs a classification of the fruit: $0$ if it corresponds to an apple, and $1$ if it is a banana.\n\nSo the neuron's input will be a vector of 2 pieces of information about an image; let's call the data about the $i$th image $\\mathbf{x}^{(i)}$.\nWe also are given the label that says which type of fruit it is: $0$ for an apple, and $1$ for a banana; let's call this *desired* output number $y^{(i)}$. When we feed in the $i$th data, $\\mathbf{x}^{(i)}$, we want the neuron to give an output that is *as close as possible* to the desired output $y^{(i)}$; i.e. it should **minimize** the mean-squared distance\n\n$$L_i = [f_{\\mathbf{w}, b}(\\mathbf{x}^{(i)}) - y^{(i)} ]^2.$$"
      ],
      "metadata": {}
    },
    {
      "cell_type": "markdown",
      "source": [
        "However, now we see a key difference from what we did previously: the neuron should vary its parameters in such a way that it manages to minimize this distance for *all* of the input data, simultaneously!\n\nHow can we express this mathematically? We once again define a loss function, $L(\\mathbf{w}, b)$, which tells us \"how wrong\" we are when the parameters take on the given values, and then **minimize** this loss function with respect to all of its parameters.\n\nOne way to take account of all the data at once is to use the \"mean-squared error\" loss function, which is the mean (squared) over all the differences between the output of the network, $f_{\\mathbf{w}, b}(\\mathbf{x}^{(i)})$ on the $i$th data, and the desired output $y^{(i)}$:\n\n$$L_\\mathrm{total}(\\mathbf{w}, b) = \\frac{1}{N} \\sum_i L_i = \\frac{1}{N} \\sum_i [f_{\\mathbf{w}, b}(\\mathbf{x}^{(i)}) - y^{(i)} ]^2,$$\n\nwhere $N$ is the total number of data in the training set.\n\nWhy do we choose this particular loss function? Because the minimum possible value of this loss function is $0$ (since it is a sum of squares), and this is reached only when the neural network perfectly predicts the output. If we can find a way to minimize this loss function, we will get as close as possible to this perfect prediction. (In general, though, we won't be able to get an exact prediction.)"
      ],
      "metadata": {}
    },
    {
      "cell_type": "markdown",
      "source": [
        "## Minimizing the loss function: *stochastic* gradient descent"
      ],
      "metadata": {}
    },
    {
      "cell_type": "markdown",
      "source": [
        "We already know how to minimise loss functions on a computer: we just calculate the gradient, and do gradient descent! But here we hit a problem: the function $L_\\mathrm{total}$ usually has a *lot* of terms, and so calculating the gradient of that function will be very time-consuming.\n\nInstead, we will use a variant of gradient descent, called *stochastic* gradient descent. Here, the idea is that we will not use the complete loss function; instead, at each step we will choose a random data point, number $i$, and do a step of gradient descent for the partial loss function $L_i$ *corresponding to only that data point*."
      ],
      "metadata": {}
    },
    {
      "cell_type": "markdown",
      "source": [
        "**Exercise 7:** \n\nWrite functions for the partial loss function `L(w, b, x, y)`.\n\nTo do this, recall\n\n$$\n\\mathbf{x} = \\begin{pmatrix} x_1 \\\\ x_2 \\end{pmatrix};\n\\qquad\n\\mathbf{w} = \\begin{pmatrix} w_1 \\\\ w_2 \\end{pmatrix};\n\\qquad\nf_{\\mathbf{w}, b}(\\mathbf{x}) = \\sigma(\\mathbf{w} \\cdot \\mathbf{x} + b),$$\n\nand declare `f(x, w, b)` as in notebook 8."
      ],
      "metadata": {}
    },
    {
      "cell_type": "markdown",
      "source": [
        "#### Exercise 8\n\nWrite a function for the gradient of `L`, i.e. `∇L(w, b, x, y)`, with respect to the parameters $(w_1, w_2, b)$, using finite differences. $∇L$ will be a vector with one component per parameter:\n\n$$∇L = \\left( \\frac{\\partial L}{\\partial w_1}, \\frac{\\partial L}{\\partial w_2}, \\frac{\\partial L}{\\partial b} \\right).$$"
      ],
      "metadata": {}
    },
    {
      "outputs": [],
      "cell_type": "code",
      "source": [
        ""
      ],
      "metadata": {},
      "execution_count": null
    },
    {
      "cell_type": "markdown",
      "source": [
        "#### Exercise 9\n\nImplement stochastic gradient descent in the function `stochastic_gradient_descent(L, w, b, xs, ys, N = 1000)`. Use this function to minimize the function $L_\\mathrm{total}$.\n\nThe algorithm: For each of `N` steps, randomly select an index $i$ into the vector `xs` storing your image data. Calculate the gradient of the cost function, $L_i$, for this image and update each of the parameters, $p_j$, of $L_i$ according to\n\n$$p_j = p_j - 0.01 * ∇L_j$$\n\n(Here, $j$ signifies the $j^{th}$ parameter of $L$ and similarly the $j^{th}$ component of $∇L$.)\n\n`stochastic_gradient_descent` should return the updated values for vector $\\mathbf{w}$ and scalar $b$.\n\nOptional: Keep track of the value of $L_\\mathrm{total}$ over time if you want to visualize the learning process."
      ],
      "metadata": {}
    },
    {
      "cell_type": "markdown",
      "source": [
        "#### Exercise 10\n\nUse the values of `w` and `b` from the last exercise to see how `f` is classifying a couple of the images in out dataset.\n\nIn particular, calculate `f` using the 1st and the 900th image in `xs`. For which image is the output of `f` closer to the value of its label?\n\nA) The output of `f` for the 1st image in `xs` is closer to its label\n\nB) The output of `f` for the 900th image in `xs` is closer to its label."
      ],
      "metadata": {}
    },
    {
      "cell_type": "markdown",
      "source": [
        "#### Exercise 11\n\nUse the `maximum` function to determine the maximum squared distance of the prediction from the true value. (For each image, this formula is $y_i - f_{w, b}(x_i)$.)"
      ],
      "metadata": {}
    },
    {
      "cell_type": "markdown",
      "source": [
        "#### Exercise 12\n\nUse `w` and `b` from stochastic gradient descent to draw the function that the network has learned, as before, as the hyperplane $w_1 x + w_2 y + b = 0$. Overlay this with the data.\n\n\nDoes this hyperplane correctly separate the data? (I.e., is the data for all apples on one side of the line, and is the data for all bananas on the other side of the line?)\n\nA) Yes\nB) No"
      ],
      "metadata": {}
    }
  ],
  "nbformat_minor": 2,
  "metadata": {
    "language_info": {
      "file_extension": ".jl",
      "mimetype": "application/julia",
      "name": "julia",
      "version": "0.6.2"
    },
    "kernelspec": {
      "name": "julia-0.6",
      "display_name": "Julia 0.6.2",
      "language": "julia"
    }
  },
  "nbformat": 4
}
