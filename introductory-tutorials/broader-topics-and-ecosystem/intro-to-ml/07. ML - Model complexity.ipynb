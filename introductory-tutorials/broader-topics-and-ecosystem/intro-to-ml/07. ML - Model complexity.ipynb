{
  "cells": [
    {
      "cell_type": "markdown",
      "source": [
        "## Model complexity\n\nIn the last notebook, we saw that we could customize a model by adding a parameter. Doing so, we were able to fit that model to a data point. This fit was perfect, insofar as numerics would allow.\n\nIn the next notebook, we'll see that as we add more data to our data set, fitting a model to our data usually becomes more challenging and the result will be less perfect.\n\nFor one thing, we will find that we can add complexity to our model to capture added complexity in the data. We can do this by adding more parameters to our model. We'll see that for a data set with two data points, we can again get a \"perfect\" fit to our model by adding a second parameter to our model.\n\nHowever, we can't simply add a parameter to our model every time we add a data point to our data set, since this will lead to a phenomenon called **overfitting**.\n\nIn the image below, we depict a data set that is close to linear, and models that exhibit underfitting, fitting well, and overfitting, from left to right:\n\n<img src=\"data/model_fitting.png\" alt=\"Drawing\" style=\"width: 800px;\"/>\n\n\nIn the first image, the model accounts for the slope along which the data falls, but not the offset. \n\nIn the second image, the model accounts for both the slope and offset of the  data. Adding this second parameter (the offset) to the model creates a much better fit.\n\nHowever, we can imagine that a model can have too many parameters, where we begin to fit  not only the high level features of the data, but also the noise. This overfitting is depicted in the third image."
      ],
      "metadata": {}
    },
    {
      "cell_type": "markdown",
      "source": [
        "Our aim will be to fit the data well, but avoiding *over*fitting the data!"
      ],
      "metadata": {}
    }
  ],
  "nbformat_minor": 2,
  "metadata": {
    "language_info": {
      "file_extension": ".jl",
      "mimetype": "application/julia",
      "name": "julia",
      "version": "0.6.2"
    },
    "kernelspec": {
      "name": "julia-0.6",
      "display_name": "Julia 0.6.2",
      "language": "julia"
    }
  },
  "nbformat": 4
}
