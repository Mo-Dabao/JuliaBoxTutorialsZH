{
  "cells": [
    {
      "outputs": [],
      "cell_type": "code",
      "source": [
        "# Run this cell to load the graphics packages\n\nusing Plots; gr()\nusing Interact"
      ],
      "metadata": {},
      "execution_count": null
    },
    {
      "cell_type": "markdown",
      "source": [
        "## Adding a function parameter"
      ],
      "metadata": {}
    },
    {
      "cell_type": "markdown",
      "source": [
        "In the last notebook, we saw an example of adding **parameters** to functions. These are values that control the behavior of a function. Let's look at that in some more detail."
      ],
      "metadata": {}
    },
    {
      "cell_type": "markdown",
      "source": [
        "Let's go back to our original version of the σ function:"
      ],
      "metadata": {}
    },
    {
      "outputs": [],
      "cell_type": "code",
      "source": [
        "σ(x) = 1 / (1 + exp(-x))"
      ],
      "metadata": {},
      "execution_count": null
    },
    {
      "cell_type": "markdown",
      "source": [
        "Instead of working with a single function, we can work with a whole class (set) of functions that look similar but differ in the value of a **parameter**. Let's make a new function that uses the previous $\\sigma$ function, but also has a parameter, $w$. Mathematically, we could write\n\n$$f_w(x) = f(x; w) = \\sigma(w \\, x).$$\n\n(Here, $w$ and $x$ are multiplied in the argument of $\\sigma$; we could write $w \\times x$ or $w * x$, or even $w \\cdot x$, but usually the symbols are not written.)\n\nMathematically speaking, we can think of $f_w$ as a different function for each different value of the parameter $w$."
      ],
      "metadata": {}
    },
    {
      "cell_type": "markdown",
      "source": [
        "In Julia, we write this as follows:"
      ],
      "metadata": {}
    },
    {
      "outputs": [],
      "cell_type": "code",
      "source": [
        "f(x, w) = σ(w * x)"
      ],
      "metadata": {},
      "execution_count": null
    },
    {
      "cell_type": "markdown",
      "source": [
        "Note that Julia just treats parameters as additional *arguments* to the function; the function `f` has two arguments, the value of `x` and the value of `w` that we want to use."
      ],
      "metadata": {}
    },
    {
      "cell_type": "markdown",
      "source": [
        "We can now investigate the effect of $w$ interactively. To do so, we need a way of writing in Julia \"the function of one variable $x$ that we obtain when we fix the value of $w$\". We write this as an \"anonymous function\", as we saw in the notebook on functions:\n\n    x -> f(x, w)\n    \nWe can read this as \"the function that maps $x$ to the value of $f(x, w)$, for a value of $w$ that was previously given\"."
      ],
      "metadata": {}
    },
    {
      "cell_type": "markdown",
      "source": [
        "Now we are ready to draw the function. For each plot, we *fix* a value of the parameter $w$ and draw the resulting function as a function of $x$. However, `Interact.jl` then allows us to modify interactively the value of $w$, and plot the new function that comes out:"
      ],
      "metadata": {}
    },
    {
      "outputs": [],
      "cell_type": "code",
      "source": [
        "@manipulate for w in -2:0.01:2\n    \n    plot(x->f(x, w), -5, 5, ylims=(0,1), label=\"sigmoid\")\n    plot!(x->(x>0), -5,5, label=\"Square Wave\")\nend"
      ],
      "metadata": {},
      "execution_count": null
    },
    {
      "cell_type": "markdown",
      "source": [
        "#### Exercise 1\n\nTry writing your own function that takes a parameter. Start by copying and executing\n\n```julia\nsquare(x) = x^2\n```\n\nThen use `square` to declare a new function `square_and_scale` that takes two inputs, `a` and `x` such that\n\n$$\\mathrm{square\\_and\\_scale}(x; a) := a \\cdot x^2$$"
      ],
      "metadata": {}
    },
    {
      "cell_type": "markdown",
      "source": [
        "#### Exercise 2"
      ],
      "metadata": {}
    },
    {
      "cell_type": "markdown",
      "source": [
        "Once you have declared `square_and_scale`, uncomment the code below and see how the parameter `a` scales the function `square` :"
      ],
      "metadata": {}
    },
    {
      "outputs": [],
      "cell_type": "code",
      "source": [
        "# x = -10:10\n# @manipulate for a in 0:0.01:10\n#     plot(x, square.(x), label=\"x^2\")\n#     plot!(x, square_and_scale.(x, a), ls=:dash, label=\"ax^2\")\n# end"
      ],
      "metadata": {},
      "execution_count": null
    },
    {
      "cell_type": "markdown",
      "source": [
        "## Fitting a function to data"
      ],
      "metadata": {}
    },
    {
      "cell_type": "markdown",
      "source": [
        "As we saw in the previous notebook, what we would like to do is use the fact that we now have a parameter in our function in order to do something useful! Namely, we want to model data with it."
      ],
      "metadata": {}
    },
    {
      "cell_type": "markdown",
      "source": [
        "So suppose that we are given a single data point $(x_0, y_0) = (2, 0.8)$. We can try to \"fit\" the function $f_w$ by adjusting the parameter $w$ until the function passes through the data.\n\n**Game**: Move the slider until the graph of the function hits the data point. Which value of $w$ does that correspond to?"
      ],
      "metadata": {}
    },
    {
      "outputs": [],
      "cell_type": "code",
      "source": [
        "x0, y0 = 2, 0.8\n\n@manipulate for w in -2:0.01:2\n    plot(x->f(x, w), -5, 5, ylims=(0, 1), label=\"f\")\n    scatter!([x0], [y0], label=\"data\")\nend"
      ],
      "metadata": {},
      "execution_count": null
    },
    {
      "cell_type": "markdown",
      "source": [
        "## Quantifying how far we are from the goal: the *loss function*"
      ],
      "metadata": {}
    },
    {
      "cell_type": "markdown",
      "source": [
        "We can see visually when the graph of the function passes through the data point. But the goal is to be able to automate this process so that the computer can do it unaided. \n\nSo we will need a more precise way of deciding and quantifying (i.e. measuring with a number) *how far away we are from the goal*; here, the goal means hitting the data point with the function."
      ],
      "metadata": {}
    },
    {
      "cell_type": "markdown",
      "source": [
        "#### Exercise 3\n\nCan you think of a way of measuring how far away our function is from the data point?"
      ],
      "metadata": {}
    },
    {
      "cell_type": "markdown",
      "source": [
        "### Defining the loss function"
      ],
      "metadata": {}
    },
    {
      "cell_type": "markdown",
      "source": [
        "We need to measure how far away the curve is from the data point when we choose a particular value of $w$.\nOne way to do this is by finding the vertical distance $d$ from the curve to the data point.\n\nInstead of just taking the distance, it is common to take the *square* of the distance, $d^2$.\n\nSince we are taking the vertical distance, we need the distance at the given value of $x_0$ where the data point lies. For a given value of the parameter $w$, the height of the point on the curve with that value of $x_0$ is $f(x_0, w)$.\n\nSo we take\n$$d := y_0 - f(x_0, w)$$\n\nand\n$$d^2 = [y_0 - f(x_0, w)]^2.$$\n\nThis is our measure of distance. It will change when $w$ changes -- in other words, it is itself a *function of $w$*; we will denote this function by $L(w)$, and call it the **loss function**:\n\n$$L(w) := [y_0 - f(x_0, w)]^2.$$\n\nSo the goal is to find the value $w^*$ of $w$ where the loss function is *least*; in other words, we need to *minimize* the loss function!\n\n(Another name for a loss function is a *cost function*.)"
      ],
      "metadata": {}
    },
    {
      "cell_type": "markdown",
      "source": [
        "#### Exercise 4\n\n(a) Define the loss function `L(w)` in Julia.\n\n(b) Draw the data point and the function `x -> f(x, w)`. Also draw a vertical line from the data point to the function `x -> f(x, w)`.\n\n(c) Make the plot interactive.\n\n(d) Add as the plot title the value of the loss function for the current value of $w$.\n\n(e) Use the slider to find the value $w^*$ of $w$ for which the loss function reaches its minimum value. What is $w^*$? What is the value of the loss function there, $L(w^*)$?"
      ],
      "metadata": {}
    },
    {
      "cell_type": "markdown",
      "source": [
        "## What does the loss function look like?"
      ],
      "metadata": {}
    },
    {
      "cell_type": "markdown",
      "source": [
        "The loss function $L(w)$ tells us how far away the function $f_w$ is from the data when the parameter value is $w$, represented visually as the vertical line in the previous plot. When the data are fixed, this is a function only of the parameter $w$. What does this function look like as a function of $w$? Let's draw it!"
      ],
      "metadata": {}
    },
    {
      "cell_type": "markdown",
      "source": [
        "#### Exercise 5\n\nDraw the function $L(w)$ as a function of $w$."
      ],
      "metadata": {}
    },
    {
      "cell_type": "markdown",
      "source": [
        "### Features of the loss function"
      ],
      "metadata": {}
    },
    {
      "cell_type": "markdown",
      "source": [
        "This graph quantifies how far we are from the data point for a given value of $w$.\nWhat features can we see from the graph?\n\nFirstly, we see that $L(w)$ is always bigger than $0$, for any value of $w$. This is because we want $L$ to be some kind of measure of *distance*, and distances cannot be negative. \n\nSecondly, we see that there is a special value $w^*$ of $w$ where the function $L$ reaches its minimum value. In this particular case, it actually reaches all the way down to $0$!\nThis means that the original function $f$ (the one we manipulated above) passes exactly through the data point $(x_0, y_0)$."
      ],
      "metadata": {}
    },
    {
      "cell_type": "markdown",
      "source": [
        "#### Exercise 6\n\nDraw a zoomed-in version of the graph to find the place $w^*$ where the function hits $0$ more precisely."
      ],
      "metadata": {}
    },
    {
      "cell_type": "markdown",
      "source": [
        "### A different way of defining the loss function"
      ],
      "metadata": {}
    },
    {
      "cell_type": "markdown",
      "source": [
        "**Why did we use such a complicated function $L$ with those squares inside?** We could instead just have used the absolute distance, instead of the distance squared, using the *absolute value* function, written mathematically as $| \\cdot |$, and in Julia as `abs`."
      ],
      "metadata": {}
    },
    {
      "cell_type": "markdown",
      "source": [
        "#### Exercise 7\n\nDefine a new loss function, `L_abs`, using the absolute value, and see what it looks like."
      ],
      "metadata": {}
    }
  ],
  "nbformat_minor": 2,
  "metadata": {
    "language_info": {
      "file_extension": ".jl",
      "mimetype": "application/julia",
      "name": "julia",
      "version": "0.6.2"
    },
    "kernelspec": {
      "name": "julia-0.6",
      "display_name": "Julia 0.6.2",
      "language": "julia"
    }
  },
  "nbformat": 4
}
