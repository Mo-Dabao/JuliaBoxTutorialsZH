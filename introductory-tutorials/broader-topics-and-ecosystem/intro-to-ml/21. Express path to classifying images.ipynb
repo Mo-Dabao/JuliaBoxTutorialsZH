{
  "cells": [
    {
      "cell_type": "markdown",
      "source": [
        "# Express path to classifying images"
      ],
      "metadata": {}
    },
    {
      "cell_type": "markdown",
      "source": [
        "In this notebook, we will show how to run classification software similar to how Google images works."
      ],
      "metadata": {}
    },
    {
      "cell_type": "markdown",
      "source": [
        "Julia allows us to load in various pre-trained models for classifying images, via the `Metalhead.jl` package."
      ],
      "metadata": {}
    },
    {
      "outputs": [],
      "cell_type": "code",
      "source": [
        "using Metalhead  # To run type <shift> + enter\nusing Metalhead: classify"
      ],
      "metadata": {},
      "execution_count": null
    },
    {
      "outputs": [],
      "cell_type": "code",
      "source": [
        "using Images"
      ],
      "metadata": {},
      "execution_count": null
    },
    {
      "cell_type": "markdown",
      "source": [
        "Let's download an image of an elephant:"
      ],
      "metadata": {}
    },
    {
      "outputs": [],
      "cell_type": "code",
      "source": [
        "download(\"http://www.mikebirkhead.com/images/EyeForAnElephant.jpg\", \"elephant.jpg\")"
      ],
      "metadata": {},
      "execution_count": null
    },
    {
      "outputs": [],
      "cell_type": "code",
      "source": [
        "image = load(\"elephant.jpg\") # open up a new cell type ESC + b (for below)"
      ],
      "metadata": {},
      "execution_count": null
    },
    {
      "cell_type": "markdown",
      "source": [
        "We'll use the VGG19 model, which is a deep convolutional neural network trained on a subset of the ImageNet database. As this is your first notebook, very likely the words \"convolutional\", and \"neural net,\" and \"deep,\" may seem mysterious.  At the end of this course these words will no longer be mysterious."
      ],
      "metadata": {}
    },
    {
      "outputs": [],
      "cell_type": "code",
      "source": [
        "vgg = VGG19()"
      ],
      "metadata": {},
      "execution_count": null
    },
    {
      "cell_type": "markdown",
      "source": [
        "Neural networks contain letters.  Here we will display the layers."
      ],
      "metadata": {}
    },
    {
      "outputs": [],
      "cell_type": "code",
      "source": [
        "for i=1:28\n  println(vgg.layers[i])\nend"
      ],
      "metadata": {},
      "execution_count": null
    },
    {
      "cell_type": "markdown",
      "source": [
        "To classify the image using the model, we just run the following command, and it returns its best guess at a classification:"
      ],
      "metadata": {}
    },
    {
      "outputs": [],
      "cell_type": "code",
      "source": [
        "image"
      ],
      "metadata": {},
      "execution_count": null
    },
    {
      "outputs": [],
      "cell_type": "code",
      "source": [
        "classify(vgg, image)"
      ],
      "metadata": {},
      "execution_count": null
    },
    {
      "cell_type": "markdown",
      "source": [
        "Exercise 1: grab a favorite image, then classify it. Tell us what you got!"
      ],
      "metadata": {}
    },
    {
      "outputs": [],
      "cell_type": "code",
      "source": [
        "# hint: mimic cells 2,3, and 8\n# then send us all a text"
      ],
      "metadata": {},
      "execution_count": null
    },
    {
      "cell_type": "markdown",
      "source": [
        "We can do the same with any image we have around, for example Alan's dog, Philip:"
      ],
      "metadata": {}
    },
    {
      "outputs": [],
      "cell_type": "code",
      "source": [
        "image = load(\"data/philip.jpg\")"
      ],
      "metadata": {},
      "execution_count": null
    },
    {
      "outputs": [],
      "cell_type": "code",
      "source": [
        "classify(vgg, image)"
      ],
      "metadata": {},
      "execution_count": null
    },
    {
      "cell_type": "markdown",
      "source": [
        "## What is going on here?"
      ],
      "metadata": {}
    },
    {
      "cell_type": "markdown",
      "source": [
        "VGG19 classifies images according to the following 1000 different classes:"
      ],
      "metadata": {}
    },
    {
      "outputs": [],
      "cell_type": "code",
      "source": [
        "Metalhead.imagenet_classes[rand(1:1000,1,1)]"
      ],
      "metadata": {},
      "execution_count": null
    },
    {
      "cell_type": "markdown",
      "source": [
        "The model is a Convolutional Neural Network (CNN), made up of a sequence of layers of \"neurons\" with interconnections. The huge number of parameters making up these interconnections have previously been learnt to correctly predict a set of training images representing each class."
      ],
      "metadata": {}
    },
    {
      "cell_type": "markdown",
      "source": [
        "Running the model on an image spits out the probability that the model assigns to each class:"
      ],
      "metadata": {}
    },
    {
      "outputs": [],
      "cell_type": "code",
      "source": [
        "probs = Metalhead.forward(vgg, image)"
      ],
      "metadata": {},
      "execution_count": null
    },
    {
      "cell_type": "markdown",
      "source": [
        "We can now see which are the most likely few labels:"
      ],
      "metadata": {}
    },
    {
      "outputs": [],
      "cell_type": "code",
      "source": [
        "perm = sortperm(probs)\nprobs[273]"
      ],
      "metadata": {},
      "execution_count": null
    },
    {
      "outputs": [],
      "cell_type": "code",
      "source": [
        "[ Metalhead.imagenet_classes(vgg)[perm] probs[perm] ][end:-1:end-10, :]"
      ],
      "metadata": {},
      "execution_count": null
    },
    {
      "cell_type": "markdown",
      "source": [
        "## What are the questions to get a successful classifier via machine learning?"
      ],
      "metadata": {}
    },
    {
      "cell_type": "markdown",
      "source": [
        "The key questions to obtain a successful classifier in machine learning are:\n\n- How do we define a suitable model that can model the data adequately?\n\n- How do we train it on suitably labelled data?"
      ],
      "metadata": {}
    },
    {
      "cell_type": "markdown",
      "source": [
        "These are the questions that this course is designed to address."
      ],
      "metadata": {}
    }
  ],
  "nbformat_minor": 2,
  "metadata": {
    "language_info": {
      "file_extension": ".jl",
      "mimetype": "application/julia",
      "name": "julia",
      "version": "0.6.2"
    },
    "kernelspec": {
      "name": "julia-0.6",
      "display_name": "Julia 0.6.2",
      "language": "julia"
    }
  },
  "nbformat": 4
}
