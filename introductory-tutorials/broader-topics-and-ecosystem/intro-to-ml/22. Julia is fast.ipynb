{
  "cells": [
    {
      "cell_type": "markdown",
      "source": [
        "# Julia is fast\n\nVery often, benchmarks are used to compare languages.  These benchmarks can lead to long discussions, first as to exactly what is being benchmarked and secondly what explains the differences.  These simple questions can sometimes get more complicated than you at first might imagine.\n\nThe purpose of this notebook is for you to see a simple benchmark for yourself.  One can read the notebook and see what happened on the author's Macbook Pro with a 4-core Intel Core I7, or run the notebook yourself.\n\n(This material began life as a wonderful lecture by Steven Johnson at MIT: https://github.com/stevengj/18S096-iap17/blob/master/lecture1/Boxes-and-registers.ipynb.)"
      ],
      "metadata": {}
    },
    {
      "cell_type": "markdown",
      "source": [
        "# `sum`: An easy enough function to understand"
      ],
      "metadata": {}
    },
    {
      "cell_type": "markdown",
      "source": [
        "Consider the  **sum** function `sum(a)`, which computes\n$$\n\\mathrm{sum}(a) = \\sum_{i=1}^n a_i,\n$$\nwhere $n$ is the length of `a`."
      ],
      "metadata": {}
    },
    {
      "outputs": [],
      "cell_type": "code",
      "source": [
        "a = rand(10^7) # 1D vector of random numbers, uniform on [0,1)"
      ],
      "metadata": {},
      "execution_count": null
    },
    {
      "outputs": [],
      "cell_type": "code",
      "source": [
        "sum(a)"
      ],
      "metadata": {},
      "execution_count": null
    },
    {
      "cell_type": "markdown",
      "source": [
        "The expected result is 0.5 * 10^7, since the mean of each entry is 0.5"
      ],
      "metadata": {}
    },
    {
      "cell_type": "markdown",
      "source": [
        "# Benchmarking a few ways in a few languages"
      ],
      "metadata": {}
    },
    {
      "cell_type": "markdown",
      "source": [
        "Julia has a `BenchmarkTools.jl` package for easy and accurate benchmarking:"
      ],
      "metadata": {}
    },
    {
      "outputs": [],
      "cell_type": "code",
      "source": [
        "#Pkg.add(\"BenchmarkTools\")"
      ],
      "metadata": {},
      "execution_count": null
    },
    {
      "outputs": [],
      "cell_type": "code",
      "source": [
        "using BenchmarkTools"
      ],
      "metadata": {},
      "execution_count": null
    },
    {
      "cell_type": "markdown",
      "source": [
        "#  1. The C language\n\nC is often considered the gold standard: difficult on the human, nice for the machine. Getting within a factor of 2 of C is often satisfying. Nonetheless, even within C, there are many kinds of optimizations possible that a naive C writer may or may not get the advantage of.\n\nThe current author does not speak C, so he does not read the cell below, but is happy to know that you can put C code in a Julia session, compile it, and run it. Note that the `\"\"\"` wrap a multi-line string."
      ],
      "metadata": {}
    },
    {
      "outputs": [],
      "cell_type": "code",
      "source": [
        "C_code = \"\"\"\n#include <stddef.h>\ndouble c_sum(size_t n, double *X) {\n    double s = 0.0;\n    for (size_t i = 0; i < n; ++i) {\n        s += X[i];\n    }\n    return s;\n}\n\"\"\"\n\nconst Clib = tempname()   # make a temporary file\n\n\n# compile to a shared library by piping C_code to gcc\n# (works only if you have gcc installed):\n\nopen(`gcc  -fPIC -O3 -ffast-math -msse3 -xc -shared -o $(Clib * \".\" * Libdl.dlext) -`, \"w\") do f\n    print(f, C_code) \nend\n\n# define a Julia function that calls the C function:\nc_sum(X::Array{Float64}) = ccall((\"c_sum\", Clib), Float64, (Csize_t, Ptr{Float64}), length(X), X)"
      ],
      "metadata": {},
      "execution_count": null
    },
    {
      "outputs": [],
      "cell_type": "code",
      "source": [
        "c_sum(a)"
      ],
      "metadata": {},
      "execution_count": null
    },
    {
      "outputs": [],
      "cell_type": "code",
      "source": [
        "c_sum(a) ≈ sum(a) # type \\approx and then <TAB> to get the ≈ symbolb"
      ],
      "metadata": {},
      "execution_count": null
    },
    {
      "outputs": [],
      "cell_type": "code",
      "source": [
        "≈  # alias for the `isapprox` function"
      ],
      "metadata": {},
      "execution_count": null
    },
    {
      "outputs": [],
      "cell_type": "code",
      "source": [
        "?isapprox"
      ],
      "metadata": {},
      "execution_count": null
    },
    {
      "cell_type": "markdown",
      "source": [
        "We can now benchmark the C code directly from Julia:"
      ],
      "metadata": {}
    },
    {
      "outputs": [],
      "cell_type": "code",
      "source": [
        "c_bench = @benchmark c_sum($a)"
      ],
      "metadata": {},
      "execution_count": null
    },
    {
      "outputs": [],
      "cell_type": "code",
      "source": [
        "println(\"C: Fastest time was $(minimum(c_bench.times) / 1e6) msec\")"
      ],
      "metadata": {},
      "execution_count": null
    },
    {
      "outputs": [],
      "cell_type": "code",
      "source": [
        "#d = Dict()  # a \"dictionary\", i.e. an associative array\nd[\"C\"] = minimum(c_bench.times) / 1e6  # in milliseconds\nd"
      ],
      "metadata": {},
      "execution_count": null
    },
    {
      "outputs": [],
      "cell_type": "code",
      "source": [
        "using Plots\ngr()"
      ],
      "metadata": {},
      "execution_count": null
    },
    {
      "outputs": [],
      "cell_type": "code",
      "source": [
        "t = c_bench.times / 1e6 # times in milliseconds\nm, σ = minimum(t), std(t)\n\nhistogram(t, bins=500,\n    xlim=(m - 0.01, m + σ),\n    xlabel=\"milliseconds\", ylabel=\"count\", label=\"\")"
      ],
      "metadata": {},
      "execution_count": null
    },
    {
      "cell_type": "markdown",
      "source": [
        "# 2. Python's built in `sum`"
      ],
      "metadata": {}
    },
    {
      "cell_type": "markdown",
      "source": [
        "The `PyCall` package provides a Julia interface to Python:"
      ],
      "metadata": {}
    },
    {
      "outputs": [],
      "cell_type": "code",
      "source": [
        "#Pkg.add(\"PyCall\")"
      ],
      "metadata": {},
      "execution_count": null
    },
    {
      "outputs": [],
      "cell_type": "code",
      "source": [
        "using PyCall"
      ],
      "metadata": {},
      "execution_count": null
    },
    {
      "outputs": [],
      "cell_type": "code",
      "source": [
        "# Call a low-level PyCall function to get a Python list, because\n# by default PyCall will convert to a NumPy array instead (we benchmark NumPy below):\n\napy_list = PyCall.array2py(a, 1, 1)\n\n# get the Python built-in \"sum\" function:\npysum = pybuiltin(\"sum\")"
      ],
      "metadata": {},
      "execution_count": null
    },
    {
      "outputs": [],
      "cell_type": "code",
      "source": [
        "pysum(a)"
      ],
      "metadata": {},
      "execution_count": null
    },
    {
      "outputs": [],
      "cell_type": "code",
      "source": [
        "pysum(a) ≈ sum(a)"
      ],
      "metadata": {},
      "execution_count": null
    },
    {
      "outputs": [],
      "cell_type": "code",
      "source": [
        "py_list_bench = @benchmark $pysum($apy_list)"
      ],
      "metadata": {},
      "execution_count": null
    },
    {
      "outputs": [],
      "cell_type": "code",
      "source": [
        "d[\"Python built-in\"] = minimum(py_list_bench.times) / 1e6\nd"
      ],
      "metadata": {},
      "execution_count": null
    },
    {
      "cell_type": "markdown",
      "source": [
        "# 3. Python: `numpy` \n\n## Takes advantage of hardware \"SIMD\", but only works when it works.\n\n`numpy` is an optimized C library, callable from Python.\nIt may be installed within Julia as follows:"
      ],
      "metadata": {}
    },
    {
      "outputs": [],
      "cell_type": "code",
      "source": [
        "using Conda \n#Conda.add(\"numpy\")"
      ],
      "metadata": {},
      "execution_count": null
    },
    {
      "outputs": [],
      "cell_type": "code",
      "source": [
        "numpy_sum = pyimport(\"numpy\")[\"sum\"]\napy_numpy = PyObject(a) # converts to a numpy array by default\n\npy_numpy_bench = @benchmark $numpy_sum($apy_numpy)"
      ],
      "metadata": {},
      "execution_count": null
    },
    {
      "outputs": [],
      "cell_type": "code",
      "source": [
        "numpy_sum(apy_list) # python thing"
      ],
      "metadata": {},
      "execution_count": null
    },
    {
      "outputs": [],
      "cell_type": "code",
      "source": [
        "numpy_sum(apy_list) ≈ sum(a)"
      ],
      "metadata": {},
      "execution_count": null
    },
    {
      "outputs": [],
      "cell_type": "code",
      "source": [
        "d[\"Python numpy\"] = minimum(py_numpy_bench.times) / 1e6\nd"
      ],
      "metadata": {},
      "execution_count": null
    },
    {
      "cell_type": "markdown",
      "source": [
        "# 4. Python, hand-written"
      ],
      "metadata": {}
    },
    {
      "outputs": [],
      "cell_type": "code",
      "source": [
        "py\"\"\"\ndef py_sum(a):\n    s = 0.0\n    for x in a:\n        s = s + x\n    return s\n\"\"\"\n\nsum_py = py\"py_sum\""
      ],
      "metadata": {},
      "execution_count": null
    },
    {
      "outputs": [],
      "cell_type": "code",
      "source": [
        "py_hand = @benchmark $sum_py($apy_list)"
      ],
      "metadata": {},
      "execution_count": null
    },
    {
      "outputs": [],
      "cell_type": "code",
      "source": [
        "sum_py(apy_list)"
      ],
      "metadata": {},
      "execution_count": null
    },
    {
      "outputs": [],
      "cell_type": "code",
      "source": [
        "sum_py(apy_list) ≈ sum(a)"
      ],
      "metadata": {},
      "execution_count": null
    },
    {
      "outputs": [],
      "cell_type": "code",
      "source": [
        "d[\"Python hand-written\"] = minimum(py_hand.times) / 1e6\nd"
      ],
      "metadata": {},
      "execution_count": null
    },
    {
      "cell_type": "markdown",
      "source": [
        "# 5. Julia (built-in) \n\n## Written directly in Julia, not in C!"
      ],
      "metadata": {}
    },
    {
      "outputs": [],
      "cell_type": "code",
      "source": [
        "@which sum(a)"
      ],
      "metadata": {},
      "execution_count": null
    },
    {
      "outputs": [],
      "cell_type": "code",
      "source": [
        "j_bench = @benchmark sum($a)"
      ],
      "metadata": {},
      "execution_count": null
    },
    {
      "outputs": [],
      "cell_type": "code",
      "source": [
        "d[\"Julia built-in\"] = minimum(j_bench.times) / 1e6\nd"
      ],
      "metadata": {},
      "execution_count": null
    },
    {
      "cell_type": "markdown",
      "source": [
        "# 6. Julia (hand-written)"
      ],
      "metadata": {}
    },
    {
      "outputs": [],
      "cell_type": "code",
      "source": [
        "function mysum(A)   \n    s = 0.0  # s = zero(eltype(A))\n    for a in A\n        s += a\n    end\n    s\nend"
      ],
      "metadata": {},
      "execution_count": null
    },
    {
      "outputs": [],
      "cell_type": "code",
      "source": [
        "j_bench_hand = @benchmark mysum($a)"
      ],
      "metadata": {},
      "execution_count": null
    },
    {
      "outputs": [],
      "cell_type": "code",
      "source": [
        "d[\"Julia hand-written\"] = minimum(j_bench_hand.times) / 1e6\nd"
      ],
      "metadata": {},
      "execution_count": null
    },
    {
      "cell_type": "markdown",
      "source": [
        "# Summary"
      ],
      "metadata": {}
    },
    {
      "outputs": [],
      "cell_type": "code",
      "source": [
        "for (key, value) in sort(collect(d))\n    println(rpad(key, 20, \".\"), lpad(round(value, 1), 8, \".\"))\nend"
      ],
      "metadata": {},
      "execution_count": null
    },
    {
      "outputs": [],
      "cell_type": "code",
      "source": [
        "for (key, value) in sort(collect(d), by=x->x[2])\n    println(rpad(key, 20, \".\"), lpad(round(value, 2), 10, \".\"))\nend"
      ],
      "metadata": {},
      "execution_count": null
    },
    {
      "outputs": [],
      "cell_type": "code",
      "source": [
        ""
      ],
      "metadata": {},
      "execution_count": null
    }
  ],
  "nbformat_minor": 2,
  "metadata": {
    "language_info": {
      "file_extension": ".jl",
      "mimetype": "application/julia",
      "name": "julia",
      "version": "0.6.2"
    },
    "kernelspec": {
      "name": "julia-0.6",
      "display_name": "Julia 0.6.2",
      "language": "julia"
    }
  },
  "nbformat": 4
}
