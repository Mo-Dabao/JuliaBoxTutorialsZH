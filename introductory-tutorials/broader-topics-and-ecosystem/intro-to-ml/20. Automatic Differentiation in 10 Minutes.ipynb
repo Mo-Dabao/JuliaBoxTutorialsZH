{
  "cells": [
    {
      "cell_type": "markdown",
      "source": [
        "Follow the video on https://www.youtube.com/watch?v=vAp6nUMrKYg."
      ],
      "metadata": {}
    },
    {
      "cell_type": "markdown",
      "source": [
        "# Autodiff:  <br> Calculus  from another angle \n(and the special role played by Julia's multiple dispatch and compiler technology)\n\n\n   At the heart of modern machine learning, so popular in (2018),  is an optimization\nproblem.  Optimization means gradients, so suddenly differentiation, especially automatic differentiation, is exciting.\n\n\n  The first time one  hears about automatic differentiation, it is easy to imagine what it is.  Surely it is  straightforward symbolic differentiation applied to code.  One imagines   automatically doing what is  learned  in a calculus class. \n  <img src=\"http://www2.bc.cc.ca.us/resperic/math6a/lectures/ch5/1/IntegralTable.gif\" width=\"190\">\n  .... and anyway if it is not that, then it must be finite differences, like one learns in a numerical computing class.\n  \n<img src=\"http://image.mathcaptain.com/cms/images/122/Diff%202.png\" width=\"150\">"
      ],
      "metadata": {}
    },
    {
      "cell_type": "markdown",
      "source": [
        "## Babylonian sqrt\n\nWe start with a simple example, the computation of sqrt(x), where  how autodiff works comes as both a mathematical surprise, and a computing wonder.  The example is  the Babylonian algorithm, known to mankind for millenia, to compute sqrt(x):  \n\n\n > Repeat $ t \\leftarrow  (t+x/t) / 2 $ until $t$ converges to $\\sqrt{x}$.\n \n Each iteration has one add and two divides. For illustration purposes, 10 iterations suffice."
      ],
      "metadata": {}
    },
    {
      "outputs": [],
      "cell_type": "code",
      "source": [
        "function Babylonian(x; N = 10) \n    t = (1+x)/2\n    for i = 2:N; t=(t + x/t)/2  end    \n    t\nend"
      ],
      "metadata": {},
      "execution_count": null
    },
    {
      "cell_type": "markdown",
      "source": [
        "Check that it works:"
      ],
      "metadata": {}
    },
    {
      "outputs": [],
      "cell_type": "code",
      "source": [
        "α = π\nBabylonian(α), √α"
      ],
      "metadata": {},
      "execution_count": null
    },
    {
      "outputs": [],
      "cell_type": "code",
      "source": [
        "x=2; Babylonian(x),√x  # Type \\sqrt+<tab> to get the symbol"
      ],
      "metadata": {},
      "execution_count": null
    },
    {
      "outputs": [],
      "cell_type": "code",
      "source": [
        "# Pkg.add(plots)\n# Pkg.add(plotly)\nusing Plots\nplotly()\n#gr()\n#pyplot()"
      ],
      "metadata": {},
      "execution_count": null
    },
    {
      "outputs": [],
      "cell_type": "code",
      "source": [
        "## Warning first plots load packages, takes time\ni = 0:.01:49\n\nplot([x->Babylonian(x,N=i) for i=1:5],i,label=[\"Iteration $j\" for i=1:1,j=1:5])\n\nplot!(sqrt,i,c=\"black\",label=\"sqrt\",\n      title = \"Those Babylonians really knew how to √\")"
      ],
      "metadata": {},
      "execution_count": null
    },
    {
      "cell_type": "markdown",
      "source": [
        "## ...and now the derivative, almost by magic"
      ],
      "metadata": {}
    },
    {
      "cell_type": "markdown",
      "source": [
        "Eight lines of Julia!  No mention of 1/2 over sqrt(x).\nD for \"dual number\", invented by the famous algebraist Clifford in 1873."
      ],
      "metadata": {}
    },
    {
      "outputs": [],
      "cell_type": "code",
      "source": [
        "struct D <: Number  # D is a function-derivative pair\n    f::Tuple{Float64,Float64}\nend"
      ],
      "metadata": {},
      "execution_count": null
    },
    {
      "cell_type": "markdown",
      "source": [
        "Sum Rule: (x+y)' = x' + y' <br>\nQuotient Rule: (x/y)' = (yx'-xy') / y^2"
      ],
      "metadata": {}
    },
    {
      "outputs": [],
      "cell_type": "code",
      "source": [
        "import Base: +, /, convert, promote_rule\n+(x::D, y::D) = D(x.f .+ y.f)\n/(x::D, y::D) = D((x.f[1]/y.f[1], (y.f[1]*x.f[2] - x.f[1]*y.f[2])/y.f[1]^2))\nconvert(::Type{D}, x::Real) = D((x,zero(x)))\npromote_rule(::Type{D}, ::Type{<:Number}) = D"
      ],
      "metadata": {},
      "execution_count": null
    },
    {
      "cell_type": "markdown",
      "source": [
        "The same algorithm with no rewrite at all computes properly\nthe derivative as the check shows."
      ],
      "metadata": {}
    },
    {
      "outputs": [],
      "cell_type": "code",
      "source": [
        "x=49; Babylonian(D((x,1))), (√x,.5/√x)"
      ],
      "metadata": {},
      "execution_count": null
    },
    {
      "outputs": [],
      "cell_type": "code",
      "source": [
        "x=π; Babylonian(D((x,1))), (√x,.5/√x)"
      ],
      "metadata": {},
      "execution_count": null
    },
    {
      "cell_type": "markdown",
      "source": [
        "## It just works!\n\nHow does it work?  We will explain in a moment.  Right now marvel that it does.  Note we did not\nimport any autodiff package.  Everything is just basic vanilla Julia."
      ],
      "metadata": {}
    },
    {
      "cell_type": "markdown",
      "source": [
        "## The assembler\n\nMost folks don't read assembler, but one can see that it is short.\nThe shortness is a clue that suggests speed!"
      ],
      "metadata": {}
    },
    {
      "outputs": [],
      "cell_type": "code",
      "source": [
        "@inline function Babylonian(x; N = 10) \n    t = (1+x)/2\n    for i = 2:N; t=(t + x/t)/2  end    \n    t\nend  \n@code_native(Babylonian(D((2,1))))"
      ],
      "metadata": {},
      "execution_count": null
    },
    {
      "cell_type": "markdown",
      "source": [
        "## Symbolically\n\nWe haven't yet explained how it works, but it may be of some value to understand that the below is mathematically\nequivalent, though not what the computation is doing.\n\nNotice in the below that Babylonian works on SymPy symbols.\n\nNote: Python and Julia are good friends.  It's not a competition!  Watch how nicely we can use the same code now with SymPy."
      ],
      "metadata": {}
    },
    {
      "outputs": [],
      "cell_type": "code",
      "source": [
        "#Pkg.add(\"SymPy\")\nusing SymPy"
      ],
      "metadata": {},
      "execution_count": null
    },
    {
      "outputs": [],
      "cell_type": "code",
      "source": [
        "x = symbols(\"x\")\ndisplay(\"Iterations as a function of x\")\nfor k = 1:5\n display( simplify(Babylonian(x,N=k)))\nend\n\ndisplay(\"Derivatives as a function of x\")\nfor k = 1:5\n display(simplify(diff(simplify(Babylonian(x,N=k)),x)))\nend"
      ],
      "metadata": {},
      "execution_count": null
    },
    {
      "cell_type": "markdown",
      "source": [
        "The code is computing answers mathematically equivalent to the functions above, but not symbolically, numerically."
      ],
      "metadata": {}
    },
    {
      "cell_type": "markdown",
      "source": [
        "## How autodiff is getting the answer\nLet us by hand take the \"derivative\" of the Babylonian iteration with respect to x. Specifically t′=dt/dx.  This is the old fashioned way of a human rewriting code."
      ],
      "metadata": {}
    },
    {
      "outputs": [],
      "cell_type": "code",
      "source": [
        "function dBabylonian(x; N = 10) \n    t = (1+x)/2\n    t′ = 1/2\n    for i = 1:N;  \n        t = (t+x/t)/2; \n        t′= (t′+(t-x*t′)/t^2)/2; \n    end    \n    t′\n\nend"
      ],
      "metadata": {},
      "execution_count": null
    },
    {
      "cell_type": "markdown",
      "source": [
        "See this rewritten code gets the right answer.  So the trick is for the computer system to do it for you, and without any loss of speed or convenience."
      ],
      "metadata": {}
    },
    {
      "outputs": [],
      "cell_type": "code",
      "source": [
        "x = π; dBabylonian(x), .5/√x"
      ],
      "metadata": {},
      "execution_count": null
    },
    {
      "cell_type": "markdown",
      "source": [
        "What just happened?  Answer: We created an iteration by hand for t′ given our iteration for t. Then we ran the iteration alongside the iteration for t."
      ],
      "metadata": {}
    },
    {
      "outputs": [],
      "cell_type": "code",
      "source": [
        "Babylonian(D((x,1)))"
      ],
      "metadata": {},
      "execution_count": null
    },
    {
      "cell_type": "markdown",
      "source": [
        "How did this work?  It created the same derivative iteration that we did by hand, using very general rules that are set once and need not be written by hand."
      ],
      "metadata": {}
    },
    {
      "cell_type": "markdown",
      "source": [
        "Important:: The derivative is substituted before the JIT compiler, and thus efficient compiled code is executed."
      ],
      "metadata": {}
    },
    {
      "cell_type": "markdown",
      "source": [
        "## Dual Number Notation\n\nInstead of D(a,b) we can write a + b ϵ, where ϵ satisfies ϵ^2=0.  (Some people like to recall imaginary numbers where an i is introduced with i^2=-1.) \n\nOthers like to think of how engineers just drop the O(ϵ^2) terms.\n\nThe four rules are\n\n$ (a+b\\epsilon) \\pm (c+d\\epsilon) = (a+c) \\pm (b+d)\\epsilon$\n\n$ (a+b\\epsilon) * (c+d\\epsilon) = (ac) + (bc+ad)\\epsilon$\n\n$ (a+b\\epsilon) / (c+d\\epsilon) = (a/c) + (bc-ad)/d^2 \\epsilon $"
      ],
      "metadata": {}
    },
    {
      "outputs": [],
      "cell_type": "code",
      "source": [
        "Base.show(io::IO,x::D) = print(io,x.f[1],\" + \",x.f[2],\" ϵ\")"
      ],
      "metadata": {},
      "execution_count": null
    },
    {
      "outputs": [],
      "cell_type": "code",
      "source": [
        "# Add the last two rules\nimport Base: -,*\n-(x::D, y::D) = D(x.f .- y.f)\n*(x::D, y::D) = D((x.f[1]*y.f[1], (x.f[2]*y.f[1] + x.f[1]*y.f[2])))"
      ],
      "metadata": {},
      "execution_count": null
    },
    {
      "outputs": [],
      "cell_type": "code",
      "source": [
        "D((1,0))"
      ],
      "metadata": {},
      "execution_count": null
    },
    {
      "outputs": [],
      "cell_type": "code",
      "source": [
        "D((0,1))^2"
      ],
      "metadata": {},
      "execution_count": null
    },
    {
      "outputs": [],
      "cell_type": "code",
      "source": [
        "D((2,1)) ^2"
      ],
      "metadata": {},
      "execution_count": null
    },
    {
      "outputs": [],
      "cell_type": "code",
      "source": [
        "ϵ = D((0,1))\n@code_native(ϵ^2)"
      ],
      "metadata": {},
      "execution_count": null
    },
    {
      "outputs": [],
      "cell_type": "code",
      "source": [
        "ϵ * ϵ"
      ],
      "metadata": {},
      "execution_count": null
    },
    {
      "outputs": [],
      "cell_type": "code",
      "source": [
        "ϵ^2"
      ],
      "metadata": {},
      "execution_count": null
    },
    {
      "outputs": [],
      "cell_type": "code",
      "source": [
        "1/(1+ϵ)  # Exact power series:  1-ϵ+ϵ²-ϵ³-..."
      ],
      "metadata": {},
      "execution_count": null
    },
    {
      "outputs": [],
      "cell_type": "code",
      "source": [
        "(1+ϵ)^5 ## Note this just works (we didn't train powers)!!"
      ],
      "metadata": {},
      "execution_count": null
    },
    {
      "cell_type": "markdown",
      "source": [
        "## Generalization to arbitrary roots"
      ],
      "metadata": {}
    },
    {
      "outputs": [],
      "cell_type": "code",
      "source": [
        "function nthroot(x, n=2; t=1, N = 10) \n    for i = 1:N;   t += (x/t^(n-1)-t)/n; end   \n    t\nend"
      ],
      "metadata": {},
      "execution_count": null
    },
    {
      "outputs": [],
      "cell_type": "code",
      "source": [
        "nthroot(2,3), ∛2 # take a cube root"
      ],
      "metadata": {},
      "execution_count": null
    },
    {
      "outputs": [],
      "cell_type": "code",
      "source": [
        "nthroot(2+ϵ,3)"
      ],
      "metadata": {},
      "execution_count": null
    },
    {
      "outputs": [],
      "cell_type": "code",
      "source": [
        "nthroot(7,12), 7^(1/12)"
      ],
      "metadata": {},
      "execution_count": null
    },
    {
      "outputs": [],
      "cell_type": "code",
      "source": [
        "x = 2.0\nnthroot( x+ϵ,3), ∛x, 1/x^(2/3)/3"
      ],
      "metadata": {},
      "execution_count": null
    },
    {
      "cell_type": "markdown",
      "source": [
        "## Forward Diff\nNow that you understand it, you can use the official package"
      ],
      "metadata": {}
    },
    {
      "outputs": [],
      "cell_type": "code",
      "source": [
        "Pkg.add(\"ForwardDiff\")"
      ],
      "metadata": {},
      "execution_count": null
    },
    {
      "outputs": [],
      "cell_type": "code",
      "source": [
        "using ForwardDiff"
      ],
      "metadata": {},
      "execution_count": null
    },
    {
      "outputs": [],
      "cell_type": "code",
      "source": [
        "ForwardDiff.derivative(sqrt, 2)"
      ],
      "metadata": {},
      "execution_count": null
    },
    {
      "outputs": [],
      "cell_type": "code",
      "source": [
        "ForwardDiff.derivative(Babylonian, 2)"
      ],
      "metadata": {},
      "execution_count": null
    },
    {
      "outputs": [],
      "cell_type": "code",
      "source": [
        "@which ForwardDiff.derivative(sqrt, 2)"
      ],
      "metadata": {},
      "execution_count": null
    },
    {
      "outputs": [],
      "cell_type": "code",
      "source": [
        ""
      ],
      "metadata": {},
      "execution_count": null
    },
    {
      "cell_type": "markdown",
      "source": [
        "## Close Look at Convergence with big floats\nthe -log10 gives the number of correct digits.  Watch the quadratic convergence right before your eyes."
      ],
      "metadata": {}
    },
    {
      "outputs": [],
      "cell_type": "code",
      "source": [
        "setprecision(3000)\nround.(Float64.(log10.([Babylonian(BigFloat(2),N=k) for k=1:10] - √BigFloat(2))),3)"
      ],
      "metadata": {},
      "execution_count": null
    },
    {
      "outputs": [],
      "cell_type": "code",
      "source": [
        "struct D1{T} <: Number  # D is a function-derivative pair\n    f::Tuple{T,T}\nend"
      ],
      "metadata": {},
      "execution_count": null
    },
    {
      "outputs": [],
      "cell_type": "code",
      "source": [
        "z = D((2.0,1.0))\nz1 = D1((BigFloat(2.0),BigFloat(1.0)))"
      ],
      "metadata": {},
      "execution_count": null
    },
    {
      "outputs": [],
      "cell_type": "code",
      "source": [
        "import Base: +, /, convert, promote_rule\n+(x::D1, y::D1) = D1(x.f .+ y.f)\n/(x::D1, y::D1) = D1((x.f[1]/y.f[1], (y.f[1]*x.f[2] - x.f[1]*y.f[2])/y.f[1]^2))\nconvert(::Type{D1{T}}, x::Real) where {T} = D1((convert(T, x), zero(T)))\npromote_rule(::Type{D1{T}}, ::Type{S}) where {T,S<:Number} = D1{promote_type(T,S)}"
      ],
      "metadata": {},
      "execution_count": null
    },
    {
      "outputs": [],
      "cell_type": "code",
      "source": [
        "A = randn(3,3)"
      ],
      "metadata": {},
      "execution_count": null
    },
    {
      "outputs": [],
      "cell_type": "code",
      "source": [
        "x = randn(3)"
      ],
      "metadata": {},
      "execution_count": null
    },
    {
      "outputs": [],
      "cell_type": "code",
      "source": [
        "ForwardDiff.gradient(x->x'A*x,x)"
      ],
      "metadata": {},
      "execution_count": null
    },
    {
      "outputs": [],
      "cell_type": "code",
      "source": [
        "(A+A')*x"
      ],
      "metadata": {},
      "execution_count": null
    },
    {
      "outputs": [],
      "cell_type": "code",
      "source": [
        "n = 4\nStrang = SymTridiagonal(2*ones(n),-ones(n-1))"
      ],
      "metadata": {},
      "execution_count": null
    },
    {
      "cell_type": "markdown",
      "source": [
        "##  But wait there's more!"
      ],
      "metadata": {}
    },
    {
      "cell_type": "markdown",
      "source": [
        "Many packages need to be taught how to compute autodiffs of matrix factorications such as the svd or lu.  Julia will \"just do it,\" no\nteaching necessary for reasons such as the above.  This is illustrated in another notebook, not included here."
      ],
      "metadata": {}
    },
    {
      "outputs": [],
      "cell_type": "code",
      "source": [
        ""
      ],
      "metadata": {},
      "execution_count": null
    }
  ],
  "nbformat_minor": 2,
  "metadata": {
    "language_info": {
      "file_extension": ".jl",
      "mimetype": "application/julia",
      "name": "julia",
      "version": "0.6.2"
    },
    "kernelspec": {
      "name": "julia-0.6",
      "display_name": "Julia 0.6.2",
      "language": "julia"
    }
  },
  "nbformat": 4
}
