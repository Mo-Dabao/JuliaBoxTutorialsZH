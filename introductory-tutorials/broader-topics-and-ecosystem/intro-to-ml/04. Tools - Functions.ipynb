{
  "cells": [
    {
      "cell_type": "markdown",
      "source": [
        "## Functions\n\n\nIn the last notebook, we talked about modeling data with functions. A **function** is one of the most fundamental concepts in computing (and also in mathematics). \n\nA function is a piece of a program that receives **input arguments**, processes them by doing certain calculations on them, and returns **outputs**.\n\nFor example, we might have a function `g` that takes a number as an input and returns the square of that number as an output. How can we define this function `g` on a computer? Julia gives us a few different ways to do this."
      ],
      "metadata": {}
    },
    {
      "cell_type": "markdown",
      "source": [
        "### Defining functions"
      ],
      "metadata": {}
    },
    {
      "cell_type": "markdown",
      "source": [
        "Firstly, we could write `g` as follows:"
      ],
      "metadata": {}
    },
    {
      "outputs": [],
      "cell_type": "code",
      "source": [
        "g(x) = x^2"
      ],
      "metadata": {},
      "execution_count": null
    },
    {
      "outputs": [],
      "cell_type": "code",
      "source": [
        "a = \"Machine is learning is fun \"\ng(a)"
      ],
      "metadata": {},
      "execution_count": null
    },
    {
      "cell_type": "markdown",
      "source": [
        "Alternatively, we could declare this function using the `function` and `end` keywords:"
      ],
      "metadata": {}
    },
    {
      "outputs": [],
      "cell_type": "code",
      "source": [
        "function g1(x)\n    return x^2\nend"
      ],
      "metadata": {},
      "execution_count": null
    },
    {
      "cell_type": "markdown",
      "source": [
        "The third way we could have declared this function is as an \"anonymous\" or \"lambda\" function. \"Anonymous\" functions are functions that truly don't need names! For example, we could have declared a function that squares its input as"
      ],
      "metadata": {}
    },
    {
      "outputs": [],
      "cell_type": "code",
      "source": [
        "(x -> x^2)(\"I ♡ Julia. \") # \\heartsuit + <tab>"
      ],
      "metadata": {},
      "execution_count": null
    },
    {
      "cell_type": "markdown",
      "source": [
        "Now that we've done that, we can't access the function `x -> x^2` again because we have no name to call! That seems a little silly, doesn't it?\n\nActually, there are times where functions without names are useful to us. We'll see that later in this notebook. For now, note that you have the *option* to access an \"anonymous\" function later by binding a variable to it when you declare it. For example,"
      ],
      "metadata": {}
    },
    {
      "outputs": [],
      "cell_type": "code",
      "source": [
        "g = x -> x^2"
      ],
      "metadata": {},
      "execution_count": null
    },
    {
      "cell_type": "markdown",
      "source": [
        "This syntax says, \"I want to use the variable g to access a function that takes some input called `x` and maps that input to the square of `x`."
      ],
      "metadata": {}
    },
    {
      "cell_type": "markdown",
      "source": [
        "## An important sigmoidal function"
      ],
      "metadata": {}
    },
    {
      "cell_type": "markdown",
      "source": [
        "A particular function that is used a lot in machine learning is a so-called \"sigmoidal\" function (meaning a function that is S-shaped, i.e. the graph of the function looks like an `S`).\n\nThe sigmoid function that we will use is given the name $\\sigma$, and is defined by the following mathematical expression:\n\n$$\\sigma(x) := \\frac{1}{1 + \\exp(-x)}.$$"
      ],
      "metadata": {}
    },
    {
      "outputs": [],
      "cell_type": "code",
      "source": [
        "σ(w*x) = 1/ (1+e^(-w*x))"
      ],
      "metadata": {},
      "execution_count": null
    },
    {
      "cell_type": "markdown",
      "source": [
        "#### Exercise 1\n\nUse the first syntax given above to define the function `σ` in Julia. Note that Julia actually allows us to use the symbol σ as a variable name! To do so, type `\\sigma<TAB>` in the code cell."
      ],
      "metadata": {}
    },
    {
      "cell_type": "markdown",
      "source": [
        "## Plotting functions"
      ],
      "metadata": {}
    },
    {
      "cell_type": "markdown",
      "source": [
        "Let's draw the function σ to see what it looks like. Throughout this course, we'll use the Julia package `Plots.jl` for all of the graphics. This package provides a flexible syntax for plotting, in which options to change attributes like the width of the lines used in the figure are given as named keyword arguments.\n\nIn addition, it allows us to use different \"backends\", which are the other libraries that actually carry out the plotting following the instructions from `Plots.jl`."
      ],
      "metadata": {}
    },
    {
      "outputs": [],
      "cell_type": "code",
      "source": [
        "using Plots\ngr()   # use the PlotlyJS \"backend\" (plotting library)"
      ],
      "metadata": {},
      "execution_count": null
    },
    {
      "outputs": [],
      "cell_type": "code",
      "source": [
        "plot(σ, -5, 5)\n\nhline!([0, 1], ls=:dash, lw=3)  # add horizontal lines at 0 and 1, with dashed style and linewidth 3\nvline!([0], ls=:dash, lw=3)     # add a vertical line at 0"
      ],
      "metadata": {},
      "execution_count": null
    },
    {
      "cell_type": "markdown",
      "source": [
        "We can think of $\\sigma$ as a smooth version of a step or threshold function (often called a \"Heaviside\" function). To see this, let's modify the steepness of the jump in $\\sigma$ and compare it to the Heaviside function; we'll see how all this works in more detail later:"
      ],
      "metadata": {}
    },
    {
      "outputs": [],
      "cell_type": "code",
      "source": [
        "using Interact"
      ],
      "metadata": {},
      "execution_count": null
    },
    {
      "outputs": [],
      "cell_type": "code",
      "source": [
        "heaviside(x) = x < 0 ? 0.0 : 1.0"
      ],
      "metadata": {},
      "execution_count": null
    },
    {
      "outputs": [],
      "cell_type": "code",
      "source": [
        "@manipulate for w in 0.1:0.1:20\n    plot(x -> σ(w*x), -5, 5, label=\"sigma\", lw=2)\n    plot!(heaviside, ls=:dash, label=\"step\")\nend"
      ],
      "metadata": {},
      "execution_count": null
    },
    {
      "cell_type": "markdown",
      "source": [
        "This particular function takes any real number as input, and gives an output between $0$ and $1$. It is continuous and smooth."
      ],
      "metadata": {}
    },
    {
      "cell_type": "markdown",
      "source": [
        "#### Exercise 2\n\nDeclare the sigmoid function above as an anonymous function with a different name."
      ],
      "metadata": {}
    },
    {
      "cell_type": "markdown",
      "source": [
        "### Mutating functions: `...!`\n\nTo generate our plot of σ above, we used some functions that end with `!`. What does a `!` at the end of a function name mean in Julia?"
      ],
      "metadata": {}
    },
    {
      "cell_type": "markdown",
      "source": [
        "Functions that change or modify their inputs are called **mutating functions**. But wait, don't all functions do that?\n\nNo, actually. Functions typically take *inputs* and use those *inputs* to generate *outputs*, but the inputs themselves usually don't actually get changed by a function. For example, copy and execute the following code:\n\n```julia\nv1 = [9, 4, 7, 11]\nv2 = sort(v1)\n```"
      ],
      "metadata": {}
    },
    {
      "outputs": [],
      "cell_type": "code",
      "source": [
        ""
      ],
      "metadata": {},
      "execution_count": null
    },
    {
      "cell_type": "markdown",
      "source": [
        "`v2` is a sorted version of `v1`, but after calling `sort`, `v1` is still unsorted.\n\nHowever, now trying adding an exclamation point after `sort` and executing the following code:\n\n```julia\nsort!(v1)\n```"
      ],
      "metadata": {}
    },
    {
      "outputs": [],
      "cell_type": "code",
      "source": [
        ""
      ],
      "metadata": {},
      "execution_count": null
    },
    {
      "cell_type": "markdown",
      "source": [
        "Look at the values in `v1` now!"
      ],
      "metadata": {}
    },
    {
      "outputs": [],
      "cell_type": "code",
      "source": [
        ""
      ],
      "metadata": {},
      "execution_count": null
    },
    {
      "cell_type": "markdown",
      "source": [
        "This time, the original vector itself was changed (mutated), and is now sorted. Unlike `sort`, `sort!` is a mutating function. Did the `!` make `sort!` mutating? Well, no, not really. In Julia, `!` indicates mutating functions by convention. When the author of `sort!` wrote `sort!`, they added a `!` to let you to know that `sort!` is mutating, but the `!` isn't what makes a function mutating or non-mutating in the first place.\n \n#### Exercise\n\nSome of our plotting commands end with `!`. Copy and execute the following code:\n\n```julia\nr = -5:0.1:5\ng(x) = x^2\nh(x) = x^3\nplot(r, g, label=\"g\")\nplot!(r, h, label=\"h\")\n```\n\nThen change the code slightly to remove the `!` after `plot!(r, h)`. How does this change your output? What do you think it means to add `!` after plotting commands?"
      ],
      "metadata": {}
    },
    {
      "cell_type": "markdown",
      "source": [
        "## Pointwise application of functions, `.(...)` (known as \"broadcasting\")\n\nWe saw in a previous notebook that we needed to add `.` after the names of some functions, as in \n\n```julia\ngreen_amount = mean(Float64.(green.(apple)))\n```\n\nWhat are those extra `.`s really doing?\n\nWhen we add a `.` after a function's name, we are telling Julia that we want to \"**broadcast**\" that function over the inputs passed to the function. This means that we want to apply that function *element-wise* over the inputs; in other words, it will apply the function to each element of the input, and return an array with the newly-calculated values.\n\nFor example, copy and execute the following code:\n```julia\ng.(r)\n```\nSince the function `g` squares it's input, this squares all the elements of the range `r`.\n\nWhat happens if instead we just call `g` on `r` via\n\n```julia\ng(r)\n```\n? Try this out and see what happens."
      ],
      "metadata": {}
    },
    {
      "outputs": [],
      "cell_type": "code",
      "source": [
        "x = [1 2 3;4 5 6]\nf(t) = √t + 5\nf.(x)"
      ],
      "metadata": {},
      "execution_count": null
    },
    {
      "cell_type": "markdown",
      "source": [
        "You should see an error message after calling `g(r)`, which says that Julia cannot multiply two vectors. When we call `g(r)`, we ask Julia to multiply `r` by `r`. When we call `g.(r)`, we ask Julia to multiply *each element* in `r` by itself."
      ],
      "metadata": {}
    },
    {
      "cell_type": "markdown",
      "source": [
        "#### Exercise 3\n\nCopy and execute the following code to get the type of the object `numbers = [1, 2, \"three\", 4.0]`:\n\n```julia\nnumbers = [1, 2, \"three\", 4.0]\ntypeof(numbers)\n```\n\nWhat is the type of `numbers`?"
      ],
      "metadata": {}
    },
    {
      "cell_type": "markdown",
      "source": [
        "#### Exercise 4\n\nBroadcast `typeof` over `numbers` to see what the types of the elements stored inside `numbers` are."
      ],
      "metadata": {}
    },
    {
      "cell_type": "markdown",
      "source": [
        "#### Exercise 5\n\nWrite a `for` loop that applies `g` to each of the elements of `r` and prints the results. Verify that the numbers printed by this `for` loop are equal to the entries of the output of `g.(r)`."
      ],
      "metadata": {}
    },
    {
      "cell_type": "markdown",
      "source": [
        "#### Exercise 6\n\nDefine a range `xs` between -5 and 5 with steps of 0.5. \nApply the $\\sigma$ function pointwise to this range and define `ys` as the result.\nWhat does the result look like? Plot these as points and join them with lines.\n\nMake the plot interactive where you can vary the step size. Fix the range of the plot in the `x` and `y` directions using the functions `xlims!` and `ylims!`."
      ],
      "metadata": {}
    }
  ],
  "nbformat_minor": 2,
  "metadata": {
    "language_info": {
      "file_extension": ".jl",
      "mimetype": "application/julia",
      "name": "julia",
      "version": "0.6.2"
    },
    "kernelspec": {
      "name": "julia-0.6",
      "display_name": "Julia 0.6.2",
      "language": "julia"
    }
  },
  "nbformat": 4
}
