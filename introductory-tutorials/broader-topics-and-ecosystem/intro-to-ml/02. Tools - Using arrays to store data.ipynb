{
  "cells": [
    {
      "cell_type": "markdown",
      "source": [
        "# Tools - Using arrays to store data"
      ],
      "metadata": {}
    },
    {
      "cell_type": "markdown",
      "source": [
        "### Introduction to arrays\n\n**Arrays are collections of boxes that we can use to store data.** In the last notebook, we saw an image that can help us to picture a 1-dimensional array:\n\n<img src=\"data/array_cartoon.png\" alt=\"Drawing\" style=\"width: 500px;\"/>\n\n*Why do we want an object like this to store our data?*"
      ],
      "metadata": {}
    },
    {
      "cell_type": "markdown",
      "source": [
        "An alternative to using an array in some contexts would be to name every individual piece of data, as follows:\n\n```julia\na = 1.1\nb = 2.2\nc = 3.3\n```\n\nWe can visualize how this data is stored:\n\n<img src=\"data/without_arrays.png\" alt=\"Drawing\" style=\"width: 500px;\"/>\n\n\n\nThis is like having a separate box for every piece of data, rather than a series of connected boxes for all our data.\n\nThe more data we have, the more annoying it becomes to keep track of all these boxes and their names. Furthermore, if we want to do the same thing with many pieces of data, it's much easier to put all of these pieces of data in one place to work with them at once.\n\nFor example, we may want to multiply `a`, `b`, and `c` by `2`. We could multiply three times:\n\n```julia\na * 2\nb * 2\nc * 2\n```\n\nOr, instead, we could create one array (let's call it `numbers`) and multiply that array by `2`:\n```julia\nnumbers * 2\n```\n\nThe syntax for creating this array, `numbers`, is\n\n```julia\nnumbers = [a, b, c]\n```\n\nOr, we could have just written\n\n```julia\nnumbers = [1.1, 2.2, 3.3]\n```\n\nIt's worth noting that in Julia, 1-dimensional arrays are also called \"vectors\"."
      ],
      "metadata": {}
    },
    {
      "cell_type": "markdown",
      "source": [
        "### Creating arrays\n\nIn the last section, we saw that we could create the array `numbers` by typing our elements, `a`, `b`, and `c` (or `1.1`, `2.2`, and `3.3`), inside square brackets."
      ],
      "metadata": {}
    },
    {
      "cell_type": "markdown",
      "source": [
        "#### Exercise 1 \n\n\n\nCreate an array called `first_array` that stores the numbers 10 through 20.\n\nReminder: ESC+b to open a box below."
      ],
      "metadata": {}
    },
    {
      "cell_type": "markdown",
      "source": [
        "### Array comprehensions"
      ],
      "metadata": {}
    },
    {
      "cell_type": "markdown",
      "source": [
        "Alternatively we can create arrays via *\"array comprehensions\"*. This is a nice way to automate creating an array, if you don't want to have to type long lists of numbers inside square brackets.\n\nIn an array comprehension, you write code inside square brackets that will generate the array as that code is executed. Let's see an example.\n\n```julia\ncounting = [2 * i for i in 1:10]\n```\n\nThe above line of code is saying that we want to create an array called `counting` that stores two times each of the integers between 1 and 10. This array comprehension has a few different parts, so let's dissect them:\n\n<img src=\"data/array_comprehension.png\" alt=\"Drawing\" style=\"width: 500px;\"/>\n\nIf we wanted to create another array, `roots`, that stored the square roots of all integers between 1 and 10, we could modify the code above to\n\n```julia\nroots = [sqrt(i) for i in 1:10]\n```\n\n#### Exercise\n\nCreate an array, `squares`, that stores the squares of all integers between 1 and 100."
      ],
      "metadata": {}
    },
    {
      "cell_type": "markdown",
      "source": [
        "### Looking inside an array\n\nWe can \"index\" into an array to grab contents inside the array at a particular position. To index into our `counting` array, we place square brackets after the name of the array and put the position number of the element/data we want inside those brackets.\n\nFor example, we might say\n\n```julia\ncounting[3]\n```\n\nto grab the third element in the array called `counting`."
      ],
      "metadata": {}
    },
    {
      "cell_type": "markdown",
      "source": [
        "#### Exercise 2\n\nExecute the code in the next cell. It will generate an array called `myprimes` that stores the first 168 prime numbers. Index into `myprimes` to grab the 89th smallest prime. What is this prime?"
      ],
      "metadata": {}
    },
    {
      "outputs": [],
      "cell_type": "code",
      "source": [
        "using Primes\n\nmyprimes = primes(1000); # The semicolon suppresses the output, try removing it"
      ],
      "metadata": {},
      "execution_count": null
    },
    {
      "cell_type": "markdown",
      "source": [
        "### Slicing"
      ],
      "metadata": {}
    },
    {
      "cell_type": "markdown",
      "source": [
        "Instead of grabbing a single number in an array, we can also take a **slice** of an array, i.e. a subset of the array, which can include multiple values. To take a slice of `counting` that includes the 3rd, 4th, and 5th entries, we use the following syntax with a colon (`:`):\n\n```julia\ncounting[3:5]\n```"
      ],
      "metadata": {}
    },
    {
      "cell_type": "markdown",
      "source": [
        "#### Exercise 3\n\nIndex into `myprimes` to grab the 89th through the 99th smallest primes (inclusive)."
      ],
      "metadata": {}
    },
    {
      "cell_type": "markdown",
      "source": [
        "### Modifying an array\n\nIn this section, we'll see how to edit an array we've already created. We'll see how to\n\n1) Update an item at an existing position in an array;\n\n2) Add an item to the end of an array;\n\n3) Remove an item from the end of an array."
      ],
      "metadata": {}
    },
    {
      "cell_type": "markdown",
      "source": [
        "#### Update an item at an existing position in an array\n\nFirst off, we can update an item at an existing position in an array by indexing into the array and changing the value at the desired index. For example, let's say we have an array called `myfriends`:\n\n```julia\nmyfriends = [\"Ted\", \"Robin\", \"Barney\", \"Lily\", \"Marshall\"]\n```\n\nWe can grab Barney's name from `myfriends` via\n\n```julia\nmyfriends[3]\n```\n\nand we can change \"Barney\" to something else by reassigning `myfriends[3]`:\n\n```julia\nmyfriends[3] = \"Baby Bop\"\n```\n\nNote that a single `=` assigns a new variable to the value on the left of the `=` sign."
      ],
      "metadata": {}
    },
    {
      "cell_type": "markdown",
      "source": [
        "#### Exercise 4\n\nUse an array comprehension to create an array, `mysequence`, that stores the numbers 4 through 10. Index into `mysequence` and update it to replace the last element, `10`, with `11`."
      ],
      "metadata": {}
    },
    {
      "cell_type": "markdown",
      "source": [
        "#### Add an item to the end of an array\n\nWe can add an item to the end of an array with the `push!` function. Don't worry about the exclamation mark at the end of `push!`; we'll talk about why that's there later, when we discuss functions.\n\nFor now, note that when you call `push!` on an array and a value, you add that value to the end of the array. For example,\n\n```julia\npush!(counting, 1000)\n```\n\nwill turn `counting`, which was formerly \n\n```julia\n[1, 2, 3, 4, 5, 6, 7, 8, 9, 10]\n``` \ninto \n```julia\n[1, 2, 3, 4, 5, 6, 7, 8, 9, 10, 1000]\n```\n\nProve to yourself this works!"
      ],
      "metadata": {}
    },
    {
      "outputs": [],
      "cell_type": "code",
      "source": [
        ""
      ],
      "metadata": {},
      "execution_count": null
    },
    {
      "cell_type": "markdown",
      "source": [
        "#### Exercise 5\n\nCopy the following code to declare the array `fibonacci`:\n\n```julia\nfibonacci = [1, 1, 2, 3, 5, 8, 13]\n```\n\nUse `push!` to add `21` to `fibonacci` after the number `13`."
      ],
      "metadata": {}
    },
    {
      "cell_type": "markdown",
      "source": [
        "#### Remove an item from the end of an array\n\nTo remove an item from the end of an array, use the `pop!` function. When using `pop!` on arrays, `pop!` only needs one input argument, namely the array you want to change. For example, if\n\n```julia\ncounting == [1, 2, 3, 4, 5, 6, 7, 8, 9, 10, 1000]\n```\n\nthen\n```julia\npop(counting)\n```\nwill remove `1000` from the end of `counting`."
      ],
      "metadata": {}
    },
    {
      "cell_type": "markdown",
      "source": [
        "#### Exercise 6\n\nUse `pop!` to remove `21` from `fibonacci`. What does this function call return?"
      ],
      "metadata": {}
    },
    {
      "cell_type": "markdown",
      "source": [
        "#### Exercise 7\n\nWhat is the last element of `fibonacci`? Try\n\n```julia\nfibonacci[end]\n```"
      ],
      "metadata": {}
    },
    {
      "outputs": [],
      "cell_type": "code",
      "source": [
        ""
      ],
      "metadata": {},
      "execution_count": null
    },
    {
      "cell_type": "markdown",
      "source": [
        "### Arrays of arrays and multidimensional arrays\n\nSo far we've only seen 1D arrays of scalars, but arrays can also store other arrays and can have an arbitrary number of dimensions. \n<br><br>\nFor example, the following are arrays of arrays:"
      ],
      "metadata": {}
    },
    {
      "outputs": [],
      "cell_type": "code",
      "source": [
        "favorites = [ [\"koobideh\", \"chocolate\", \"eggs\"], [\"penguins\", \"cats\", \"sugargliders\"] ]"
      ],
      "metadata": {},
      "execution_count": null
    },
    {
      "outputs": [],
      "cell_type": "code",
      "source": [
        "numbers = [ [1, 2, 3], [4, 5], [6, 7, 8, 9] ]"
      ],
      "metadata": {},
      "execution_count": null
    },
    {
      "cell_type": "markdown",
      "source": [
        "One way to create a multidimensional array is to use the `rand` function. `rand` takes an arbitrary number of arguments where the number of arguments determines the number of dimensions the array created by `rand` will have!\n\nFor example, if we pass `rand` two integer inputs, it will generate a 2D array, while three integer inputs will generate a 3D array:"
      ],
      "metadata": {}
    },
    {
      "outputs": [],
      "cell_type": "code",
      "source": [
        "rand(4, 3)"
      ],
      "metadata": {},
      "execution_count": null
    },
    {
      "outputs": [],
      "cell_type": "code",
      "source": [
        "rand(4, 3, 2)"
      ],
      "metadata": {},
      "execution_count": null
    },
    {
      "cell_type": "markdown",
      "source": [
        "If we want to grab a value from a 2D array, we index into the array, specifying the row and column of the element of interest! For example, if we have the array `A` given by\n\n```julia\nA = [ 1  2  3\n      4  5  6\n      7  8  9 ]\n ```\n we could grab the number 6 by saying\n \n ```\n A[2, 3]\n ```\n \n since 6 is in the 2nd row and 3rd column of `A`."
      ],
      "metadata": {}
    },
    {
      "cell_type": "markdown",
      "source": [
        "#### Exercise 8\n \n Copy and execute the following code to get an array, `myprimematrix`, which stores the first 100 primes\n \n ```\n myprimematrix = reshape(primes(541), (10, 10))\n ```\n \n Grab the prime in the 8th row and 5th column via indexing. What is the value of this prime?"
      ],
      "metadata": {}
    },
    {
      "cell_type": "markdown",
      "source": [
        "### Copying arrays\n\nBe careful when you want to copy arrays!\n\nLet's say you want to copy an existing array, like `fibonacci`, to an array called `somenumbers`. Remember how we defined `fibonacci`:\n\n```\nfibonacci = [1, 1, 2, 3, 5, 8, 13]\n```julia\n\nWhat if we try to copy fibonacci by saying\n\n```\nsomenumbers = fibonacci\n```julia\n?\nExecute this code to try to copy fibonacci. Look at `somenumbers` to see if it stores what you want."
      ],
      "metadata": {}
    },
    {
      "outputs": [],
      "cell_type": "code",
      "source": [
        "fibonacci"
      ],
      "metadata": {},
      "execution_count": null
    },
    {
      "outputs": [],
      "cell_type": "code",
      "source": [
        "somenumbers = fibonacci"
      ],
      "metadata": {},
      "execution_count": null
    },
    {
      "outputs": [],
      "cell_type": "code",
      "source": [
        "somenumbers"
      ],
      "metadata": {},
      "execution_count": null
    },
    {
      "cell_type": "markdown",
      "source": [
        "Now let's update `somenumbers` by changing its first element."
      ],
      "metadata": {}
    },
    {
      "outputs": [],
      "cell_type": "code",
      "source": [
        "somenumbers[1] = 404"
      ],
      "metadata": {},
      "execution_count": null
    },
    {
      "cell_type": "markdown",
      "source": [
        "Now let's look inside fibonacci."
      ],
      "metadata": {}
    },
    {
      "outputs": [],
      "cell_type": "code",
      "source": [
        "fibonacci"
      ],
      "metadata": {},
      "execution_count": null
    },
    {
      "cell_type": "markdown",
      "source": [
        "#### Exercise 9\n\nWhat is the first element in `fibonacci`?"
      ],
      "metadata": {}
    },
    {
      "cell_type": "markdown",
      "source": [
        "### Copying or not?"
      ],
      "metadata": {}
    },
    {
      "cell_type": "markdown",
      "source": [
        "Did copying `fibonacci` like this work?\n\nNo, unfortunately not. When we tried to copy, all we did was give `fibonacci` a new name, `somenumbers`. Now when we update `somenumbers`, we're also updating `fibonacci` because they are the same object!"
      ],
      "metadata": {}
    },
    {
      "cell_type": "markdown",
      "source": [
        "If we actually want to make a *copy* of the array bound to `fibonacci`, we can use the `copy` function:"
      ],
      "metadata": {}
    },
    {
      "outputs": [],
      "cell_type": "code",
      "source": [
        "# First, restore fibonacci\n\nfibonacci[1] = 1\nfibonacci"
      ],
      "metadata": {},
      "execution_count": null
    },
    {
      "outputs": [],
      "cell_type": "code",
      "source": [
        "somemorenumbers = copy(fibonacci)"
      ],
      "metadata": {},
      "execution_count": null
    },
    {
      "outputs": [],
      "cell_type": "code",
      "source": [
        "somemorenumbers[1] = 404"
      ],
      "metadata": {},
      "execution_count": null
    },
    {
      "outputs": [],
      "cell_type": "code",
      "source": [
        "fibonacci"
      ],
      "metadata": {},
      "execution_count": null
    },
    {
      "cell_type": "markdown",
      "source": [
        "In this last example, fibonacci was not updated. Therefore we see that the arrays bound to `somemorenumbers` and `fibonacci` are distinct."
      ],
      "metadata": {}
    },
    {
      "cell_type": "markdown",
      "source": [
        "#### Exercise 10\n\nCopy `myprimematrix` to `mynewprimematrix`. Update `mynewprimematrix[3,3]` to `1234`."
      ],
      "metadata": {}
    }
  ],
  "nbformat_minor": 2,
  "metadata": {
    "language_info": {
      "file_extension": ".jl",
      "mimetype": "application/julia",
      "name": "julia",
      "version": "0.6.2"
    },
    "kernelspec": {
      "name": "julia-0.6",
      "display_name": "Julia 0.6.2",
      "language": "julia"
    }
  },
  "nbformat": 4
}
